{
 "cells": [
  {
   "attachments": {},
   "cell_type": "markdown",
   "metadata": {},
   "source": [
    "Soru 1 Cevaplari"
   ]
  },
  {
   "cell_type": "code",
   "execution_count": 46,
   "metadata": {},
   "outputs": [
    {
     "name": "stdout",
     "output_type": "stream",
     "text": [
      "Yeni liste:  [21, 2, 12, 9, 50, 7, 66, 91, 14, 143, 23, 48, 19, 100, 71, 28]\n",
      "Tek sayilar:  [21, 9, 7, 91, 143, 23, 19, 71]\n",
      "Buyuktek kucuge sayilar:  [143, 100, 91, 71, 66, 50, 48, 28, 23, 21, 19, 14, 12, 9, 7, 2]\n",
      "Buyukten kucuge tek sayilar: [143, 91, 71, 23, 21, 19, 9, 7]\n"
     ]
    }
   ],
   "source": [
    "listem = [2,12, 9, 50, 7, 66,91,14, 143,23, 48, 19,100,71,28]\n",
    "\n",
    "#1-a\n",
    "sayi = int(input(\"Lutfen bir sayi giriniz: \"))\n",
    "\n",
    "#1-b\n",
    "listem.insert(0, sayi)\n",
    "print('Yeni liste: ', listem)\n",
    "\n",
    "#1-c\n",
    "\n",
    "tek = [i for i in listem if i % 2 == 1]\n",
    "\n",
    "print('Tek sayilar: ',tek)\n",
    "\n",
    "#1-d\n",
    "listem.sort(reverse=True)\n",
    "print('Buyuktek kucuge sayilar: ',listem)\n",
    "\n",
    "tek.sort(reverse=True)\n",
    "print('Buyukten kucuge tek sayilar:', tek)\n"
   ]
  },
  {
   "attachments": {},
   "cell_type": "markdown",
   "metadata": {},
   "source": [
    "Soru 2 Cevaplari"
   ]
  },
  {
   "cell_type": "code",
   "execution_count": 48,
   "metadata": {},
   "outputs": [
    {
     "name": "stdout",
     "output_type": "stream",
     "text": [
      "Nazan\n",
      "Son Eleman:  Hollanda\n",
      "[34, 65, 33, 5.6]\n",
      "4\n",
      "List Comprehensions ile 10 elemanli liste:  [1, 2, 3, 4, 5, 6, 7, 8, 9, 10]\n"
     ]
    }
   ],
   "source": [
    "listem2 = [\"Ali\", \"Veli\", [\"Ayşe\", \"Nazan\", \"Zeynep\"], 34, 65, 33, 5.6,\"elma\",\"Hollanda\"]\n",
    "\n",
    "#2-a\n",
    "\n",
    "print(listem2[2][1])\n",
    "\n",
    "#2-b\n",
    "\n",
    "print('Son Eleman: ',listem2[-1])\n",
    "\n",
    "#2-c\n",
    "sayiList = listem2[3:7]\n",
    "print(sayiList)\n",
    "\n",
    "#2-d\n",
    "print(len(sayiList))\n",
    "\n",
    "#2-e\n",
    "yeniListe = [i+1 for i in range(10)]\n",
    "print('List Comprehensions ile 10 elemanli liste: ',yeniListe)\n"
   ]
  }
 ],
 "metadata": {
  "kernelspec": {
   "display_name": "Python 3",
   "language": "python",
   "name": "python3"
  },
  "language_info": {
   "codemirror_mode": {
    "name": "ipython",
    "version": 3
   },
   "file_extension": ".py",
   "mimetype": "text/x-python",
   "name": "python",
   "nbconvert_exporter": "python",
   "pygments_lexer": "ipython3",
   "version": "3.10.10"
  },
  "orig_nbformat": 4
 },
 "nbformat": 4,
 "nbformat_minor": 2
}
